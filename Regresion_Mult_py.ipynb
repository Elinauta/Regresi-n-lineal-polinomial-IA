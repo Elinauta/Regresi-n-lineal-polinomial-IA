{
  "nbformat": 4,
  "nbformat_minor": 0,
  "metadata": {
    "colab": {
      "name": "Regresion_Mult.py",
      "provenance": [],
      "collapsed_sections": [],
      "authorship_tag": "ABX9TyN4fQ75vUqkpIVgtBLHpq01",
      "include_colab_link": true
    },
    "kernelspec": {
      "name": "python3",
      "display_name": "Python 3"
    },
    "language_info": {
      "name": "python"
    }
  },
  "cells": [
    {
      "cell_type": "markdown",
      "metadata": {
        "id": "view-in-github",
        "colab_type": "text"
      },
      "source": [
        "<a href=\"https://colab.research.google.com/github/Elinauta/Regresion-lineal-polinomial-IA/blob/main/Regresion_Mult_py.ipynb\" target=\"_parent\"><img src=\"https://colab.research.google.com/assets/colab-badge.svg\" alt=\"Open In Colab\"/></a>"
      ]
    },
    {
      "cell_type": "markdown",
      "metadata": {
        "id": "mKvAPjqMD1BW"
      },
      "source": [
        "# REGRESION MULTIPLE\n",
        "\n",
        "Cuaya Padilla Maria Elizabeth\n",
        "Reg. 19110132\n",
        "5°E1"
      ]
    },
    {
      "cell_type": "code",
      "metadata": {
        "id": "Lei9g884EBiV"
      },
      "source": [
        "import numpy as np\n",
        "import matplotlib.pyplot as plt"
      ],
      "execution_count": null,
      "outputs": []
    },
    {
      "cell_type": "code",
      "metadata": {
        "id": "wpJuiRoTSJYl"
      },
      "source": [
        "from sklearn import datasets, linear_model"
      ],
      "execution_count": null,
      "outputs": []
    },
    {
      "cell_type": "code",
      "metadata": {
        "id": "mM_zzB_1SNFR"
      },
      "source": [
        "\"\"\"Carga la libreria\"\"\"\n",
        "boston = datasets.load_boston()"
      ],
      "execution_count": null,
      "outputs": []
    },
    {
      "cell_type": "code",
      "metadata": {
        "id": "DWouXqSfSiZu"
      },
      "source": [
        "\"\"\"Nuestras dos matrices: x es la columna 6\"\"\"\n",
        "x = boston.data[:, np.newaxis, 5]\n",
        "y = boston.target\n",
        "\n",
        "#\"\"\"Se grafica en un eje de coordenadas\"\"\"\n",
        "#plt.scatter(x, y, alpha=0.3)\n",
        "#plt.show()"
      ],
      "execution_count": null,
      "outputs": []
    },
    {
      "cell_type": "code",
      "metadata": {
        "colab": {
          "base_uri": "https://localhost:8080/",
          "height": 418
        },
        "id": "rrotpNzDTWVZ",
        "outputId": "1b034e03-528e-4d80-95f1-1aa748557b2f"
      },
      "source": [
        "\"\"\"IMPLEMENTACION DE LA REGRESION POLINOMIAL\"\"\"\n",
        "from sklearn.model_selection import train_test_split\n",
        "\n",
        "\"\"\"Se separan los datos para el train/entrenamiento y el test/prueba\"\"\"\n",
        "x_train, x_test, y_train, y_test = train_test_split(x, y, test_size=0.2)\n",
        "\n",
        "from sklearn.preprocessing import PolynomialFeatures\n",
        "\n",
        "\"\"\"Se define el grado del polinomio\"\"\"\n",
        "reg_poli = PolynomialFeatures(degree = 2)\n",
        "\n",
        "x_train_p = reg_poli.fit_transform(x_train)\n",
        "x_test_p = reg_poli.fit_transform(x_test)\n",
        "\n",
        "\"\"\"Se define el algoritmo\"\"\"\n",
        "pr = linear_model.LinearRegression()\n",
        "\n",
        "\"\"\"Entrenamiento\"\"\"\n",
        "pr.fit(x_train_p, y_train)\n",
        "\n",
        "\"\"\"Prediccion\"\"\"\n",
        "y_pred_pr = pr.predict(x_test_p)\n",
        "\n",
        "\"\"\"Graficacion\"\"\"\n",
        "plt.scatter(x_test, y_test)\n",
        "plt.plot(x_test, y_pred_pr, c='red', linewidth=3)\n",
        "plt.show()\n",
        "\n",
        "\"\"\"Impresion de datos\"\"\"\n",
        "print()\n",
        "print('DATOS DEL MODELO REGRESIÓN POLINOMIAL')\n",
        "print()\n",
        "print('Valor de la pendiente o coeficiente \"a\":')\n",
        "print(pr.coef_)\n",
        "print('Valor de la intersección o coeficiente \"b\":')\n",
        "print(pr.intercept_)\n",
        "print('Precisión del modelo:')\n",
        "print(pr.score(x_train_p, y_train))"
      ],
      "execution_count": null,
      "outputs": [
        {
          "output_type": "display_data",
          "data": {
            "image/png": "[encoded data removed]",
            "text/plain": [
              "<Figure size 432x288 with 1 Axes>"
            ]
          },
          "metadata": {
            "tags": [],
            "needs_background": "light"
          }
        },
        {
          "output_type": "stream",
          "text": [
            "\n",
            "DATOS DEL MODELO REGRESIÓN POLINOMIAL\n",
            "\n",
            "Valor de la pendiente o coeficiente \"a\":\n",
            "[  0.         -22.40075313   2.42252757]\n",
            "Valor de la intersección o coeficiente \"b\":\n",
            "66.5730644762792\n",
            "Precisión del modelo:\n",
            "0.5248621627115284\n"
          ],
          "name": "stdout"
        }
      ]
    }
  ]
}